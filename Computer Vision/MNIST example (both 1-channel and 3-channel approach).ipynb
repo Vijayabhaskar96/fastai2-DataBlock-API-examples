{
 "cells": [
  {
   "cell_type": "code",
   "execution_count": 1,
   "metadata": {
    "ExecuteTime": {
     "end_time": "2020-05-05T07:20:17.662105Z",
     "start_time": "2020-05-05T07:20:15.667285Z"
    }
   },
   "outputs": [],
   "source": [
    "from fastai2.vision.all import *\n",
    "from torchvision import models"
   ]
  },
  {
   "cell_type": "code",
   "execution_count": 2,
   "metadata": {
    "ExecuteTime": {
     "end_time": "2020-05-05T07:20:17.677035Z",
     "start_time": "2020-05-05T07:20:17.665058Z"
    }
   },
   "outputs": [
    {
     "data": {
      "text/plain": [
       "Path('F:/WinPy3710/settings/.fastai/data/mnist_tiny')"
      ]
     },
     "execution_count": 2,
     "metadata": {},
     "output_type": "execute_result"
    }
   ],
   "source": [
    "path = untar_data(URLs.MNIST_TINY)\n",
    "path"
   ]
  },
  {
   "cell_type": "code",
   "execution_count": 3,
   "metadata": {
    "ExecuteTime": {
     "end_time": "2020-05-05T07:20:17.750247Z",
     "start_time": "2020-05-05T07:20:17.681017Z"
    }
   },
   "outputs": [
    {
     "data": {
      "text/plain": [
       "(#5) [Path('F:/WinPy3710/settings/.fastai/data/mnist_tiny/labels.csv'),Path('F:/WinPy3710/settings/.fastai/data/mnist_tiny/models'),Path('F:/WinPy3710/settings/.fastai/data/mnist_tiny/test'),Path('F:/WinPy3710/settings/.fastai/data/mnist_tiny/train'),Path('F:/WinPy3710/settings/.fastai/data/mnist_tiny/valid')]"
      ]
     },
     "execution_count": 3,
     "metadata": {},
     "output_type": "execute_result"
    }
   ],
   "source": [
    "path.ls()"
   ]
  },
  {
   "cell_type": "markdown",
   "metadata": {},
   "source": [
    "MNIST contains 1-channel images, more generally known as \"grayscale images\". If you're planning to use a pretrained model then you have a problem here, almost all pretrained models are trained on 3-channel images (Images with RGB colour channels) therefore you can't use them with pretrained weights directly, If you want to use a pretrained model you can try converting this 1-channel image to 3-channel images is simple all you have to do is repeat the channel 3 times and you have a 3-channel image, with PIL it's just `img.convert(\"RGB\")`."
   ]
  },
  {
   "cell_type": "markdown",
   "metadata": {},
   "source": [
    "# 1-channel approach"
   ]
  },
  {
   "cell_type": "code",
   "execution_count": 4,
   "metadata": {
    "ExecuteTime": {
     "end_time": "2020-05-05T07:20:17.837572Z",
     "start_time": "2020-05-05T07:20:17.751220Z"
    }
   },
   "outputs": [],
   "source": [
    "blocks = (ImageBlock(cls=PILImageBW), CategoryBlock) #PILImageBW says the image is a 1-channel image"
   ]
  },
  {
   "cell_type": "code",
   "execution_count": 5,
   "metadata": {
    "ExecuteTime": {
     "end_time": "2020-05-05T07:20:17.927299Z",
     "start_time": "2020-05-05T07:20:17.839566Z"
    }
   },
   "outputs": [],
   "source": [
    "dblock = DataBlock(blocks=blocks,\n",
    "                   get_items=get_image_files,\n",
    "                   splitter=GrandparentSplitter(),\n",
    "                   get_y=parent_label)"
   ]
  },
  {
   "cell_type": "code",
   "execution_count": 6,
   "metadata": {
    "ExecuteTime": {
     "end_time": "2020-05-05T07:20:19.448860Z",
     "start_time": "2020-05-05T07:20:17.929323Z"
    }
   },
   "outputs": [],
   "source": [
    "dls = dblock.dataloaders(path,num_workers=0)"
   ]
  },
  {
   "cell_type": "code",
   "execution_count": 7,
   "metadata": {
    "ExecuteTime": {
     "end_time": "2020-05-05T07:20:19.794940Z",
     "start_time": "2020-05-05T07:20:19.449819Z"
    }
   },
   "outputs": [
    {
     "data": {
      "image/png": "[encoded data removed]",
      "text/plain": [
       "<Figure size 648x648 with 9 Axes>"
      ]
     },
     "metadata": {
      "needs_background": "light"
     },
     "output_type": "display_data"
    }
   ],
   "source": [
    "dls.show_batch()"
   ]
  },
  {
   "cell_type": "code",
   "execution_count": 8,
   "metadata": {
    "ExecuteTime": {
     "end_time": "2020-05-05T07:20:19.857727Z",
     "start_time": "2020-05-05T07:20:19.795894Z"
    }
   },
   "outputs": [
    {
     "data": {
      "text/plain": [
       "torch.Size([64, 1, 28, 28])"
      ]
     },
     "execution_count": 8,
     "metadata": {},
     "output_type": "execute_result"
    }
   ],
   "source": [
    "#Let's check the shape of the input images\n",
    "batch = dls.one_batch()\n",
    "batch[0].shape #[bs, num_channels, height, width]"
   ]
  },
  {
   "cell_type": "code",
   "execution_count": 9,
   "metadata": {
    "ExecuteTime": {
     "end_time": "2020-05-05T07:20:19.882822Z",
     "start_time": "2020-05-05T07:20:19.859722Z"
    }
   },
   "outputs": [],
   "source": [
    "class SimpleClassifier(Module):\n",
    "    def __init__(self):\n",
    "        self.conv1 = nn.Conv2d(in_channels=1,out_channels=8,kernel_size=3)\n",
    "        self.conv2 = nn.Conv2d(in_channels=8,out_channels=16,kernel_size=3)\n",
    "        self.flatten = Flatten()\n",
    "        self.linear1 = nn.Linear(9216,24)\n",
    "        self.linear2 = nn.Linear(24,2)\n",
    "    \n",
    "    def forward(self,inp):\n",
    "        x = self.conv1(inp)\n",
    "        x = self.conv2(x)\n",
    "        x = self.flatten(x)\n",
    "        x = F.relu(self.linear1(x))\n",
    "        x = self.linear2(x)\n",
    "        return x"
   ]
  },
  {
   "cell_type": "code",
   "execution_count": 10,
   "metadata": {
    "ExecuteTime": {
     "end_time": "2020-05-05T07:20:19.964936Z",
     "start_time": "2020-05-05T07:20:19.883860Z"
    }
   },
   "outputs": [],
   "source": [
    "learn = Learner(dls,SimpleClassifier(),loss_func=CrossEntropyLossFlat(),metrics=accuracy)"
   ]
  },
  {
   "cell_type": "code",
   "execution_count": 11,
   "metadata": {
    "ExecuteTime": {
     "end_time": "2020-05-05T07:20:26.537571Z",
     "start_time": "2020-05-05T07:20:19.966895Z"
    }
   },
   "outputs": [
    {
     "data": {
      "text/html": [],
      "text/plain": [
       "<IPython.core.display.HTML object>"
      ]
     },
     "metadata": {},
     "output_type": "display_data"
    },
    {
     "data": {
      "text/plain": [
       "SuggestedLRs(lr_min=0.0019054606556892395, lr_steep=0.0020892962347716093)"
      ]
     },
     "execution_count": 11,
     "metadata": {},
     "output_type": "execute_result"
    },
    {
     "data": {
      "image/png": "[encoded data removed]",
      "text/plain": [
       "<Figure size 432x288 with 1 Axes>"
      ]
     },
     "metadata": {
      "needs_background": "light"
     },
     "output_type": "display_data"
    }
   ],
   "source": [
    "learn.lr_find()"
   ]
  },
  {
   "cell_type": "code",
   "execution_count": 12,
   "metadata": {
    "ExecuteTime": {
     "end_time": "2020-05-05T07:20:40.466438Z",
     "start_time": "2020-05-05T07:20:26.538571Z"
    }
   },
   "outputs": [
    {
     "data": {
      "text/html": [
       "<table border=\"1\" class=\"dataframe\">\n",
       "  <thead>\n",
       "    <tr style=\"text-align: left;\">\n",
       "      <th>epoch</th>\n",
       "      <th>train_loss</th>\n",
       "      <th>valid_loss</th>\n",
       "      <th>accuracy</th>\n",
       "      <th>time</th>\n",
       "    </tr>\n",
       "  </thead>\n",
       "  <tbody>\n",
       "    <tr>\n",
       "      <td>0</td>\n",
       "      <td>0.634615</td>\n",
       "      <td>0.468488</td>\n",
       "      <td>0.971388</td>\n",
       "      <td>00:01</td>\n",
       "    </tr>\n",
       "    <tr>\n",
       "      <td>1</td>\n",
       "      <td>0.454020</td>\n",
       "      <td>0.086979</td>\n",
       "      <td>0.981402</td>\n",
       "      <td>00:01</td>\n",
       "    </tr>\n",
       "    <tr>\n",
       "      <td>2</td>\n",
       "      <td>0.314650</td>\n",
       "      <td>0.049240</td>\n",
       "      <td>0.982833</td>\n",
       "      <td>00:01</td>\n",
       "    </tr>\n",
       "    <tr>\n",
       "      <td>3</td>\n",
       "      <td>0.237865</td>\n",
       "      <td>0.040424</td>\n",
       "      <td>0.987124</td>\n",
       "      <td>00:01</td>\n",
       "    </tr>\n",
       "    <tr>\n",
       "      <td>4</td>\n",
       "      <td>0.188516</td>\n",
       "      <td>0.037785</td>\n",
       "      <td>0.988555</td>\n",
       "      <td>00:01</td>\n",
       "    </tr>\n",
       "    <tr>\n",
       "      <td>5</td>\n",
       "      <td>0.155668</td>\n",
       "      <td>0.039817</td>\n",
       "      <td>0.988555</td>\n",
       "      <td>00:01</td>\n",
       "    </tr>\n",
       "    <tr>\n",
       "      <td>6</td>\n",
       "      <td>0.132558</td>\n",
       "      <td>0.064628</td>\n",
       "      <td>0.978541</td>\n",
       "      <td>00:01</td>\n",
       "    </tr>\n",
       "    <tr>\n",
       "      <td>7</td>\n",
       "      <td>0.117431</td>\n",
       "      <td>0.033528</td>\n",
       "      <td>0.985694</td>\n",
       "      <td>00:01</td>\n",
       "    </tr>\n",
       "    <tr>\n",
       "      <td>8</td>\n",
       "      <td>0.105145</td>\n",
       "      <td>0.030035</td>\n",
       "      <td>0.989986</td>\n",
       "      <td>00:01</td>\n",
       "    </tr>\n",
       "    <tr>\n",
       "      <td>9</td>\n",
       "      <td>0.093194</td>\n",
       "      <td>0.029549</td>\n",
       "      <td>0.992847</td>\n",
       "      <td>00:01</td>\n",
       "    </tr>\n",
       "  </tbody>\n",
       "</table>"
      ],
      "text/plain": [
       "<IPython.core.display.HTML object>"
      ]
     },
     "metadata": {},
     "output_type": "display_data"
    }
   ],
   "source": [
    "learn.fit_one_cycle(10,1e-3)"
   ]
  },
  {
   "cell_type": "code",
   "execution_count": 13,
   "metadata": {
    "ExecuteTime": {
     "end_time": "2020-05-05T07:20:40.490346Z",
     "start_time": "2020-05-05T07:20:40.467441Z"
    }
   },
   "outputs": [],
   "source": [
    "learn.save(\"1channel\")"
   ]
  },
  {
   "cell_type": "markdown",
   "metadata": {},
   "source": [
    "## Let's Predict!"
   ]
  },
  {
   "cell_type": "code",
   "execution_count": 14,
   "metadata": {
    "ExecuteTime": {
     "end_time": "2020-05-05T07:20:40.556946Z",
     "start_time": "2020-05-05T07:20:40.491344Z"
    }
   },
   "outputs": [
    {
     "data": {
      "text/plain": [
       "<fastai2.learner.Learner at 0x20c0226ef60>"
      ]
     },
     "execution_count": 14,
     "metadata": {},
     "output_type": "execute_result"
    }
   ],
   "source": [
    "learn.load(\"1channel\")"
   ]
  },
  {
   "cell_type": "code",
   "execution_count": 15,
   "metadata": {
    "ExecuteTime": {
     "end_time": "2020-05-05T07:20:40.628798Z",
     "start_time": "2020-05-05T07:20:40.558941Z"
    }
   },
   "outputs": [],
   "source": [
    "test_dl = learn.dls.test_dl(get_image_files(path/\"test\"))"
   ]
  },
  {
   "cell_type": "code",
   "execution_count": 16,
   "metadata": {
    "ExecuteTime": {
     "end_time": "2020-05-05T07:20:40.695773Z",
     "start_time": "2020-05-05T07:20:40.637777Z"
    }
   },
   "outputs": [
    {
     "data": {
      "text/plain": [
       "[Path('F:/WinPy3710/settings/.fastai/data/mnist_tiny/test/1503.png'),\n",
       " Path('F:/WinPy3710/settings/.fastai/data/mnist_tiny/test/1605.png'),\n",
       " Path('F:/WinPy3710/settings/.fastai/data/mnist_tiny/test/1883.png'),\n",
       " Path('F:/WinPy3710/settings/.fastai/data/mnist_tiny/test/2032.png'),\n",
       " Path('F:/WinPy3710/settings/.fastai/data/mnist_tiny/test/205.png'),\n",
       " Path('F:/WinPy3710/settings/.fastai/data/mnist_tiny/test/2642.png'),\n",
       " Path('F:/WinPy3710/settings/.fastai/data/mnist_tiny/test/3515.png'),\n",
       " Path('F:/WinPy3710/settings/.fastai/data/mnist_tiny/test/3848.png'),\n",
       " Path('F:/WinPy3710/settings/.fastai/data/mnist_tiny/test/3878.png'),\n",
       " Path('F:/WinPy3710/settings/.fastai/data/mnist_tiny/test/4605.png'),\n",
       " Path('F:/WinPy3710/settings/.fastai/data/mnist_tiny/test/4654.png'),\n",
       " Path('F:/WinPy3710/settings/.fastai/data/mnist_tiny/test/500.png'),\n",
       " Path('F:/WinPy3710/settings/.fastai/data/mnist_tiny/test/5071.png'),\n",
       " Path('F:/WinPy3710/settings/.fastai/data/mnist_tiny/test/585.png'),\n",
       " Path('F:/WinPy3710/settings/.fastai/data/mnist_tiny/test/5988.png'),\n",
       " Path('F:/WinPy3710/settings/.fastai/data/mnist_tiny/test/617.png'),\n",
       " Path('F:/WinPy3710/settings/.fastai/data/mnist_tiny/test/6335.png'),\n",
       " Path('F:/WinPy3710/settings/.fastai/data/mnist_tiny/test/6501.png'),\n",
       " Path('F:/WinPy3710/settings/.fastai/data/mnist_tiny/test/6517.png'),\n",
       " Path('F:/WinPy3710/settings/.fastai/data/mnist_tiny/test/6736.png')]"
      ]
     },
     "execution_count": 16,
     "metadata": {},
     "output_type": "execute_result"
    }
   ],
   "source": [
    "test_dl.items"
   ]
  },
  {
   "cell_type": "code",
   "execution_count": 17,
   "metadata": {
    "ExecuteTime": {
     "end_time": "2020-05-05T07:20:40.801217Z",
     "start_time": "2020-05-05T07:20:40.697767Z"
    }
   },
   "outputs": [
    {
     "data": {
      "text/html": [],
      "text/plain": [
       "<IPython.core.display.HTML object>"
      ]
     },
     "metadata": {},
     "output_type": "display_data"
    },
    {
     "data": {
      "text/plain": [
       "array([0, 0, 1, 0, 0, 1, 0, 1, 1, 0, 1, 0, 1, 1, 1, 1, 1, 0, 0, 0],\n",
       "      dtype=int64)"
      ]
     },
     "execution_count": 17,
     "metadata": {},
     "output_type": "execute_result"
    }
   ],
   "source": [
    "outs = learn.get_preds(dl=test_dl)\n",
    "preds = outs[0].numpy()\n",
    "predicted_labels=np.argmax(preds,axis=-1)\n",
    "predicted_labels"
   ]
  },
  {
   "cell_type": "code",
   "execution_count": 18,
   "metadata": {
    "ExecuteTime": {
     "end_time": "2020-05-05T07:20:40.854702Z",
     "start_time": "2020-05-05T07:20:40.803176Z"
    }
   },
   "outputs": [
    {
     "data": {
      "text/plain": [
       "(#20) ['3','3','7','3','3','7','3','7','7','3'...]"
      ]
     },
     "execution_count": 18,
     "metadata": {},
     "output_type": "execute_result"
    }
   ],
   "source": [
    "decoded_pred_labels = L([learn.dls.categorize.decode(x) for x in predicted_labels])\n",
    "decoded_pred_labels"
   ]
  },
  {
   "cell_type": "code",
   "execution_count": 19,
   "metadata": {
    "ExecuteTime": {
     "end_time": "2020-05-05T07:20:41.634587Z",
     "start_time": "2020-05-05T07:20:40.855725Z"
    }
   },
   "outputs": [
    {
     "data": {
      "image/png": "[encoded data removed]",
      "text/plain": [
       "<Figure size 864x1080 with 20 Axes>"
      ]
     },
     "metadata": {
      "needs_background": "light"
     },
     "output_type": "display_data"
    }
   ],
   "source": [
    "show_images([PILImage.create(img) for img in test_dl.items],titles=decoded_pred_labels,nrows=5,ncols=4)"
   ]
  },
  {
   "cell_type": "markdown",
   "metadata": {},
   "source": [
    "# 3-channel images"
   ]
  },
  {
   "cell_type": "markdown",
   "metadata": {},
   "source": [
    "This approach treates the 1-channel images as if they're 3-channel images, all you have to do is use `PILImage` instead of `PILImageBW`"
   ]
  },
  {
   "cell_type": "code",
   "execution_count": 20,
   "metadata": {
    "ExecuteTime": {
     "end_time": "2020-05-05T07:20:41.638549Z",
     "start_time": "2020-05-05T07:20:41.635557Z"
    }
   },
   "outputs": [],
   "source": [
    "blocks = (ImageBlock(cls=PILImage), CategoryBlock)"
   ]
  },
  {
   "cell_type": "code",
   "execution_count": 21,
   "metadata": {
    "ExecuteTime": {
     "end_time": "2020-05-05T07:20:41.704555Z",
     "start_time": "2020-05-05T07:20:41.640549Z"
    }
   },
   "outputs": [],
   "source": [
    "dblock = DataBlock(blocks=blocks,\n",
    "                   get_items=get_image_files,\n",
    "                   splitter=GrandparentSplitter(),\n",
    "                   get_y=parent_label)"
   ]
  },
  {
   "cell_type": "code",
   "execution_count": 22,
   "metadata": {
    "ExecuteTime": {
     "end_time": "2020-05-05T07:20:41.880066Z",
     "start_time": "2020-05-05T07:20:41.705520Z"
    }
   },
   "outputs": [],
   "source": [
    "dls = dblock.dataloaders(path,num_workers=0)"
   ]
  },
  {
   "cell_type": "code",
   "execution_count": 23,
   "metadata": {
    "ExecuteTime": {
     "end_time": "2020-05-05T07:20:42.202171Z",
     "start_time": "2020-05-05T07:20:41.881030Z"
    }
   },
   "outputs": [
    {
     "data": {
      "image/png": "[encoded data removed]",
      "text/plain": [
       "<Figure size 648x648 with 9 Axes>"
      ]
     },
     "metadata": {
      "needs_background": "light"
     },
     "output_type": "display_data"
    }
   ],
   "source": [
    "dls.show_batch()"
   ]
  },
  {
   "cell_type": "code",
   "execution_count": 24,
   "metadata": {
    "ExecuteTime": {
     "end_time": "2020-05-05T07:20:42.291963Z",
     "start_time": "2020-05-05T07:20:42.205165Z"
    }
   },
   "outputs": [
    {
     "data": {
      "text/plain": [
       "torch.Size([64, 3, 28, 28])"
      ]
     },
     "execution_count": 24,
     "metadata": {},
     "output_type": "execute_result"
    }
   ],
   "source": [
    "#Let's check the shape of the input images\n",
    "batch = dls.one_batch()\n",
    "batch[0].shape #[bs, num_channels, height, width]"
   ]
  },
  {
   "cell_type": "markdown",
   "metadata": {},
   "source": [
    "Now that we have 3-channel images, we can use `cnn_learner` and do transfer learning!"
   ]
  },
  {
   "cell_type": "code",
   "execution_count": 25,
   "metadata": {
    "ExecuteTime": {
     "end_time": "2020-05-05T07:20:42.619419Z",
     "start_time": "2020-05-05T07:20:42.292963Z"
    }
   },
   "outputs": [],
   "source": [
    "learn = cnn_learner(dls, models.resnet18, metrics=accuracy)"
   ]
  },
  {
   "cell_type": "code",
   "execution_count": 26,
   "metadata": {
    "ExecuteTime": {
     "end_time": "2020-05-05T07:20:42.623410Z",
     "start_time": "2020-05-05T07:20:42.620417Z"
    }
   },
   "outputs": [],
   "source": [
    "learn.freeze()"
   ]
  },
  {
   "cell_type": "code",
   "execution_count": 27,
   "metadata": {
    "ExecuteTime": {
     "end_time": "2020-05-05T07:20:52.427185Z",
     "start_time": "2020-05-05T07:20:42.625405Z"
    }
   },
   "outputs": [
    {
     "data": {
      "text/html": [],
      "text/plain": [
       "<IPython.core.display.HTML object>"
      ]
     },
     "metadata": {},
     "output_type": "display_data"
    },
    {
     "data": {
      "text/plain": [
       "SuggestedLRs(lr_min=0.017378008365631102, lr_steep=0.0020892962347716093)"
      ]
     },
     "execution_count": 27,
     "metadata": {},
     "output_type": "execute_result"
    },
    {
     "data": {
      "image/png": "[encoded data removed]",
      "text/plain": [
       "<Figure size 432x288 with 1 Axes>"
      ]
     },
     "metadata": {
      "needs_background": "light"
     },
     "output_type": "display_data"
    }
   ],
   "source": [
    "learn.lr_find()"
   ]
  },
  {
   "cell_type": "code",
   "execution_count": 28,
   "metadata": {
    "ExecuteTime": {
     "end_time": "2020-05-05T07:21:01.834449Z",
     "start_time": "2020-05-05T07:20:52.428183Z"
    }
   },
   "outputs": [
    {
     "data": {
      "text/html": [
       "<table border=\"1\" class=\"dataframe\">\n",
       "  <thead>\n",
       "    <tr style=\"text-align: left;\">\n",
       "      <th>epoch</th>\n",
       "      <th>train_loss</th>\n",
       "      <th>valid_loss</th>\n",
       "      <th>accuracy</th>\n",
       "      <th>time</th>\n",
       "    </tr>\n",
       "  </thead>\n",
       "  <tbody>\n",
       "    <tr>\n",
       "      <td>0</td>\n",
       "      <td>0.718449</td>\n",
       "      <td>0.254873</td>\n",
       "      <td>0.919886</td>\n",
       "      <td>00:02</td>\n",
       "    </tr>\n",
       "    <tr>\n",
       "      <td>1</td>\n",
       "      <td>0.462818</td>\n",
       "      <td>0.308275</td>\n",
       "      <td>0.924177</td>\n",
       "      <td>00:01</td>\n",
       "    </tr>\n",
       "    <tr>\n",
       "      <td>2</td>\n",
       "      <td>0.306818</td>\n",
       "      <td>0.153716</td>\n",
       "      <td>0.961373</td>\n",
       "      <td>00:01</td>\n",
       "    </tr>\n",
       "    <tr>\n",
       "      <td>3</td>\n",
       "      <td>0.216082</td>\n",
       "      <td>0.074384</td>\n",
       "      <td>0.979971</td>\n",
       "      <td>00:01</td>\n",
       "    </tr>\n",
       "    <tr>\n",
       "      <td>4</td>\n",
       "      <td>0.159288</td>\n",
       "      <td>0.062812</td>\n",
       "      <td>0.984263</td>\n",
       "      <td>00:01</td>\n",
       "    </tr>\n",
       "  </tbody>\n",
       "</table>"
      ],
      "text/plain": [
       "<IPython.core.display.HTML object>"
      ]
     },
     "metadata": {},
     "output_type": "display_data"
    }
   ],
   "source": [
    "learn.fit_one_cycle(5,1e-2)"
   ]
  },
  {
   "cell_type": "code",
   "execution_count": 29,
   "metadata": {
    "ExecuteTime": {
     "end_time": "2020-05-05T07:21:01.901430Z",
     "start_time": "2020-05-05T07:21:01.835414Z"
    }
   },
   "outputs": [],
   "source": [
    "learn.save(\"3channel_stage1\")"
   ]
  },
  {
   "cell_type": "code",
   "execution_count": 30,
   "metadata": {
    "ExecuteTime": {
     "end_time": "2020-05-05T07:21:01.928970Z",
     "start_time": "2020-05-05T07:21:01.902040Z"
    }
   },
   "outputs": [],
   "source": [
    "learn.unfreeze()"
   ]
  },
  {
   "cell_type": "code",
   "execution_count": 31,
   "metadata": {
    "ExecuteTime": {
     "end_time": "2020-05-05T07:21:21.662677Z",
     "start_time": "2020-05-05T07:21:01.929968Z"
    }
   },
   "outputs": [
    {
     "data": {
      "text/html": [
       "<table border=\"1\" class=\"dataframe\">\n",
       "  <thead>\n",
       "    <tr style=\"text-align: left;\">\n",
       "      <th>epoch</th>\n",
       "      <th>train_loss</th>\n",
       "      <th>valid_loss</th>\n",
       "      <th>accuracy</th>\n",
       "      <th>time</th>\n",
       "    </tr>\n",
       "  </thead>\n",
       "  <tbody>\n",
       "    <tr>\n",
       "      <td>0</td>\n",
       "      <td>0.079759</td>\n",
       "      <td>0.062648</td>\n",
       "      <td>0.987124</td>\n",
       "      <td>00:02</td>\n",
       "    </tr>\n",
       "    <tr>\n",
       "      <td>1</td>\n",
       "      <td>0.104251</td>\n",
       "      <td>0.425387</td>\n",
       "      <td>0.938484</td>\n",
       "      <td>00:01</td>\n",
       "    </tr>\n",
       "    <tr>\n",
       "      <td>2</td>\n",
       "      <td>0.099296</td>\n",
       "      <td>0.009148</td>\n",
       "      <td>0.995708</td>\n",
       "      <td>00:02</td>\n",
       "    </tr>\n",
       "    <tr>\n",
       "      <td>3</td>\n",
       "      <td>0.087666</td>\n",
       "      <td>0.006177</td>\n",
       "      <td>0.995708</td>\n",
       "      <td>00:02</td>\n",
       "    </tr>\n",
       "    <tr>\n",
       "      <td>4</td>\n",
       "      <td>0.073061</td>\n",
       "      <td>0.073577</td>\n",
       "      <td>0.975680</td>\n",
       "      <td>00:01</td>\n",
       "    </tr>\n",
       "    <tr>\n",
       "      <td>5</td>\n",
       "      <td>0.062956</td>\n",
       "      <td>0.000440</td>\n",
       "      <td>1.000000</td>\n",
       "      <td>00:01</td>\n",
       "    </tr>\n",
       "    <tr>\n",
       "      <td>6</td>\n",
       "      <td>0.049776</td>\n",
       "      <td>0.001411</td>\n",
       "      <td>1.000000</td>\n",
       "      <td>00:01</td>\n",
       "    </tr>\n",
       "    <tr>\n",
       "      <td>7</td>\n",
       "      <td>0.038154</td>\n",
       "      <td>0.001542</td>\n",
       "      <td>1.000000</td>\n",
       "      <td>00:01</td>\n",
       "    </tr>\n",
       "    <tr>\n",
       "      <td>8</td>\n",
       "      <td>0.030104</td>\n",
       "      <td>0.000967</td>\n",
       "      <td>1.000000</td>\n",
       "      <td>00:02</td>\n",
       "    </tr>\n",
       "    <tr>\n",
       "      <td>9</td>\n",
       "      <td>0.023885</td>\n",
       "      <td>0.000839</td>\n",
       "      <td>1.000000</td>\n",
       "      <td>00:01</td>\n",
       "    </tr>\n",
       "  </tbody>\n",
       "</table>"
      ],
      "text/plain": [
       "<IPython.core.display.HTML object>"
      ]
     },
     "metadata": {},
     "output_type": "display_data"
    }
   ],
   "source": [
    "learn.fit_one_cycle(10,1e-3)"
   ]
  },
  {
   "cell_type": "code",
   "execution_count": 32,
   "metadata": {
    "ExecuteTime": {
     "end_time": "2020-05-05T07:21:21.881094Z",
     "start_time": "2020-05-05T07:21:21.664672Z"
    }
   },
   "outputs": [],
   "source": [
    "learn.save(\"3channel_stage2\")"
   ]
  },
  {
   "cell_type": "markdown",
   "metadata": {},
   "source": [
    "## Let's Predict!"
   ]
  },
  {
   "cell_type": "code",
   "execution_count": 33,
   "metadata": {
    "ExecuteTime": {
     "end_time": "2020-05-05T07:21:22.042661Z",
     "start_time": "2020-05-05T07:21:21.883089Z"
    }
   },
   "outputs": [
    {
     "data": {
      "text/plain": [
       "<fastai2.learner.Learner at 0x20c0358af98>"
      ]
     },
     "execution_count": 33,
     "metadata": {},
     "output_type": "execute_result"
    }
   ],
   "source": [
    "learn.load(\"3channel_stage2\")"
   ]
  },
  {
   "cell_type": "code",
   "execution_count": 34,
   "metadata": {
    "ExecuteTime": {
     "end_time": "2020-05-05T07:21:22.048645Z",
     "start_time": "2020-05-05T07:21:22.043659Z"
    }
   },
   "outputs": [],
   "source": [
    "test_dl = learn.dls.test_dl(get_image_files(path/\"test\"))"
   ]
  },
  {
   "cell_type": "code",
   "execution_count": 35,
   "metadata": {
    "ExecuteTime": {
     "end_time": "2020-05-05T07:21:22.118458Z",
     "start_time": "2020-05-05T07:21:22.050640Z"
    }
   },
   "outputs": [
    {
     "data": {
      "text/plain": [
       "[Path('F:/WinPy3710/settings/.fastai/data/mnist_tiny/test/1503.png'),\n",
       " Path('F:/WinPy3710/settings/.fastai/data/mnist_tiny/test/1605.png'),\n",
       " Path('F:/WinPy3710/settings/.fastai/data/mnist_tiny/test/1883.png'),\n",
       " Path('F:/WinPy3710/settings/.fastai/data/mnist_tiny/test/2032.png'),\n",
       " Path('F:/WinPy3710/settings/.fastai/data/mnist_tiny/test/205.png'),\n",
       " Path('F:/WinPy3710/settings/.fastai/data/mnist_tiny/test/2642.png'),\n",
       " Path('F:/WinPy3710/settings/.fastai/data/mnist_tiny/test/3515.png'),\n",
       " Path('F:/WinPy3710/settings/.fastai/data/mnist_tiny/test/3848.png'),\n",
       " Path('F:/WinPy3710/settings/.fastai/data/mnist_tiny/test/3878.png'),\n",
       " Path('F:/WinPy3710/settings/.fastai/data/mnist_tiny/test/4605.png'),\n",
       " Path('F:/WinPy3710/settings/.fastai/data/mnist_tiny/test/4654.png'),\n",
       " Path('F:/WinPy3710/settings/.fastai/data/mnist_tiny/test/500.png'),\n",
       " Path('F:/WinPy3710/settings/.fastai/data/mnist_tiny/test/5071.png'),\n",
       " Path('F:/WinPy3710/settings/.fastai/data/mnist_tiny/test/585.png'),\n",
       " Path('F:/WinPy3710/settings/.fastai/data/mnist_tiny/test/5988.png'),\n",
       " Path('F:/WinPy3710/settings/.fastai/data/mnist_tiny/test/617.png'),\n",
       " Path('F:/WinPy3710/settings/.fastai/data/mnist_tiny/test/6335.png'),\n",
       " Path('F:/WinPy3710/settings/.fastai/data/mnist_tiny/test/6501.png'),\n",
       " Path('F:/WinPy3710/settings/.fastai/data/mnist_tiny/test/6517.png'),\n",
       " Path('F:/WinPy3710/settings/.fastai/data/mnist_tiny/test/6736.png')]"
      ]
     },
     "execution_count": 35,
     "metadata": {},
     "output_type": "execute_result"
    }
   ],
   "source": [
    "test_dl.items"
   ]
  },
  {
   "cell_type": "code",
   "execution_count": 36,
   "metadata": {
    "ExecuteTime": {
     "end_time": "2020-05-05T07:21:22.489897Z",
     "start_time": "2020-05-05T07:21:22.120453Z"
    }
   },
   "outputs": [
    {
     "data": {
      "text/html": [],
      "text/plain": [
       "<IPython.core.display.HTML object>"
      ]
     },
     "metadata": {},
     "output_type": "display_data"
    },
    {
     "data": {
      "text/plain": [
       "array([0, 0, 1, 0, 0, 1, 0, 1, 1, 0, 1, 0, 1, 1, 1, 1, 1, 0, 0, 0],\n",
       "      dtype=int64)"
      ]
     },
     "execution_count": 36,
     "metadata": {},
     "output_type": "execute_result"
    }
   ],
   "source": [
    "outs = learn.get_preds(dl=test_dl)\n",
    "preds = outs[0].numpy()\n",
    "predicted_labels=np.argmax(preds,axis=-1)\n",
    "predicted_labels"
   ]
  },
  {
   "cell_type": "code",
   "execution_count": 37,
   "metadata": {
    "ExecuteTime": {
     "end_time": "2020-05-05T07:21:22.495867Z",
     "start_time": "2020-05-05T07:21:22.490849Z"
    }
   },
   "outputs": [
    {
     "data": {
      "text/plain": [
       "(#20) ['3','3','7','3','3','7','3','7','7','3'...]"
      ]
     },
     "execution_count": 37,
     "metadata": {},
     "output_type": "execute_result"
    }
   ],
   "source": [
    "decoded_pred_labels = L([learn.dls.categorize.decode(x) for x in predicted_labels])\n",
    "decoded_pred_labels"
   ]
  },
  {
   "cell_type": "code",
   "execution_count": 38,
   "metadata": {
    "ExecuteTime": {
     "end_time": "2020-05-05T07:21:23.417401Z",
     "start_time": "2020-05-05T07:21:22.496834Z"
    }
   },
   "outputs": [
    {
     "data": {
      "image/png": "[encoded data removed]",
      "text/plain": [
       "<Figure size 1080x864 with 20 Axes>"
      ]
     },
     "metadata": {
      "needs_background": "light"
     },
     "output_type": "display_data"
    }
   ],
   "source": [
    "show_images([PILImage.create(img) for img in test_dl.items],titles=decoded_pred_labels,nrows=4,ncols=5)"
   ]
  }
 ],
 "metadata": {
  "kernelspec": {
   "display_name": "Python 3",
   "language": "python",
   "name": "python3"
  },
  "language_info": {
   "codemirror_mode": {
    "name": "ipython",
    "version": 3
   },
   "file_extension": ".py",
   "mimetype": "text/x-python",
   "name": "python",
   "nbconvert_exporter": "python",
   "pygments_lexer": "ipython3",
   "version": "3.7.1"
  }
 },
 "nbformat": 4,
 "nbformat_minor": 2
}
